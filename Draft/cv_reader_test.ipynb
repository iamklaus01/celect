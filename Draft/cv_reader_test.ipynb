{
 "cells": [
  {
   "cell_type": "code",
   "execution_count": 18,
   "id": "8c6f7114",
   "metadata": {
    "scrolled": true
   },
   "outputs": [],
   "source": [
    "# ! pip install pyresparser\n",
    "# !python -m spacy download en_core_web_sm\n",
    "# !python -m nltk.downloader words\n",
    "# ! python -m spacy download fr_core_news_sm\n",
    "# ! pip install pytesseract\n",
    "# ! pip install PyPDF2"
   ]
  },
  {
   "cell_type": "code",
   "execution_count": 35,
   "id": "84d8e4a2",
   "metadata": {},
   "outputs": [],
   "source": [
    "import zipfile\n",
    "import chardet\n",
    "import PyPDF2\n",
    "import io"
   ]
  },
  {
   "cell_type": "markdown",
   "id": "2a8546d7",
   "metadata": {},
   "source": [
    "### Read Zip files and get all the filenames"
   ]
  },
  {
   "cell_type": "markdown",
   "id": "fb6003b1",
   "metadata": {},
   "source": [
    "#### Option 1 : Symboles like \\n presented in the output"
   ]
  },
  {
   "cell_type": "code",
   "execution_count": 33,
   "id": "658af7d9",
   "metadata": {
    "scrolled": true
   },
   "outputs": [
    {
     "name": "stderr",
     "output_type": "stream",
     "text": [
      "PdfReader stream/file object is not in binary mode. It may not be read correctly.\n",
      "PdfReader stream/file object is not in binary mode. It may not be read correctly.\n",
      "PdfReader stream/file object is not in binary mode. It may not be read correctly.\n",
      "PdfReader stream/file object is not in binary mode. It may not be read correctly.\n",
      "PdfReader stream/file object is not in binary mode. It may not be read correctly.\n",
      "PdfReader stream/file object is not in binary mode. It may not be read correctly.\n"
     ]
    },
    {
     "name": "stdout",
     "output_type": "stream",
     "text": [
      "6\n"
     ]
    }
   ],
   "source": [
    "all_content = []\n",
    "with zipfile.ZipFile('cv_data_zip.zip', 'r') as zip_file:\n",
    "    # Get a list of all the file names in the compressed directory\n",
    "    file_names = zip_file.namelist()\n",
    "\n",
    "    # Loop through the list of file names and read the contents of each file\n",
    "    for file_name in file_names:\n",
    "        with zip_file.open(file_name) as file:\n",
    "            pdf_reader = PyPDF2.PdfReader(file)\n",
    "\n",
    "            content = \"\"\n",
    "            for page_num in range(len(pdf_reader.pages)):\n",
    "                page = pdf_reader.pages[page_num]\n",
    "                page_text = page.extract_text()\n",
    "                content += page_text\n",
    "#                 print(f'Page {page_num + 1}:\\n{page_text}\\n')\n",
    "                \n",
    "            all_content.append(page_text)\n",
    "\n",
    "print(len(all_content))"
   ]
  },
  {
   "cell_type": "markdown",
   "id": "aa1ea91a",
   "metadata": {},
   "source": [
    "#### Option 1 : Symboles like \\n presented in the output"
   ]
  },
  {
   "cell_type": "code",
   "execution_count": 36,
   "id": "71e783ca",
   "metadata": {
    "scrolled": true
   },
   "outputs": [
    {
     "name": "stdout",
     "output_type": "stream",
     "text": [
      "6\n"
     ]
    }
   ],
   "source": [
    "all_content = []\n",
    "with zipfile.ZipFile('cv_data_zip.zip', 'r') as zip_file:\n",
    "    # Get a list of all the file names in the compressed directory\n",
    "    file_names = zip_file.namelist()\n",
    "\n",
    "    # Loop through the list of file names and read the contents of each file\n",
    "    for file_name in file_names:\n",
    "        file_content = io.BytesIO(zip_file.read(file_name))\n",
    "        pdf_reader = PyPDF2.PdfReader(file_content)\n",
    "\n",
    "        content = \"\"\n",
    "        for page_num in range(len(pdf_reader.pages)):\n",
    "            page = pdf_reader.pages[page_num]\n",
    "            page_text = page.extract_text()\n",
    "            content += page_text\n",
    "\n",
    "        all_content.append(page_text)\n",
    "\n",
    "print(len(all_content))"
   ]
  },
  {
   "cell_type": "code",
   "execution_count": null,
   "id": "e7052565",
   "metadata": {},
   "outputs": [],
   "source": []
  }
 ],
 "metadata": {
  "kernelspec": {
   "display_name": "Python 3 (ipykernel)",
   "language": "python",
   "name": "python3"
  },
  "language_info": {
   "codemirror_mode": {
    "name": "ipython",
    "version": 3
   },
   "file_extension": ".py",
   "mimetype": "text/x-python",
   "name": "python",
   "nbconvert_exporter": "python",
   "pygments_lexer": "ipython3",
   "version": "3.9.6"
  }
 },
 "nbformat": 4,
 "nbformat_minor": 5
}
